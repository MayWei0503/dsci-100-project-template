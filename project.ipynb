{
 "cells": [
  {
   "cell_type": "markdown",
   "id": "e51f5722-d186-4567-8d51-052ddaa96686",
   "metadata": {},
   "source": [
    "#  Can Played Hours, Age, and Gender Predict Newsletter Subscription?\n",
    "## A Data-Science Analysis of the UBC Minecraft Research-Server Logs\n",
    "*May Wei· DSCI _100 · UBC, 2025-06-17*\n",
    "## Link to github repository"
   ]
  },
  {
   "cell_type": "markdown",
   "id": "b45ff6b4-b721-414d-b92b-c66759a95978",
   "metadata": {},
   "source": [
    "## 1. Introduction\n",
    "### 1.1 Background\n",
    "A research group at the University of British Columbia has launched a Minecraft server that records how players behave in virtual environments.  The server collects rich in-game activity data, which can be used to study user engagement and support research in human-computer interaction and AI.\n",
    "\n",
    "To maintain engagement and allocate server resources effectively, the research team uses a game-related newsletter.  Predicting which players are likely to subscribe can help with targeted recruitment and infrastructure planning.\n",
    "\n",
    "In the commercial gaming industry, predictive marketing is widely used to retain players by sending customized offers to those at risk of leaving (Ghantasala, 2024).  Similarly, understanding which players are more inclined to subscribe to game newsletters can improve outreach and user management.\n",
    "\n",
    "This project investigates whether a player’s demographic information (e.g., age, gender, experience) and gameplay patterns (e.g., session frequency, average session length) can predict newsletter subscription status."
   ]
  },
  {
   "cell_type": "markdown",
   "id": "beca907d-67d6-4808-91ba-ff6c4c4de3dc",
   "metadata": {},
   "source": [
    "### Research Question \n",
    " Can played hours, age, and gender predict newsletter subscription in players?"
   ]
  },
  {
   "cell_type": "markdown",
   "id": "6500666b-ed0e-496e-90ba-6f7ad570eb62",
   "metadata": {},
   "source": [
    "The response variable is the binary flag **`subscribed`**, and the explanatory variables are  \n",
    "1. **`hours_played`** – cumulative play-time (h),  \n",
    "2. **`age`** – self-reported age (years),  \n",
    "3. **`gender`** – self-reported gender identity."
   ]
  },
  {
   "cell_type": "markdown",
   "id": "4d7c10a2-d930-4403-8455-9b541cfb804c",
   "metadata": {},
   "source": [
    "## 1.2 Data Description"
   ]
  },
  {
   "cell_type": "code",
   "execution_count": 11,
   "id": "2e1414dc-8c9c-419d-bbff-42f66e451b52",
   "metadata": {},
   "outputs": [],
   "source": [
    "library(tidyverse)"
   ]
  },
  {
   "cell_type": "code",
   "execution_count": 20,
   "id": "4c04ad5d-311a-41f3-9668-84396520a61f",
   "metadata": {},
   "outputs": [
    {
     "name": "stderr",
     "output_type": "stream",
     "text": [
      "\u001b[1mRows: \u001b[22m\u001b[34m196\u001b[39m \u001b[1mColumns: \u001b[22m\u001b[34m7\u001b[39m\n",
      "\u001b[36m──\u001b[39m \u001b[1mColumn specification\u001b[22m \u001b[36m────────────────────────────────────────────────────────\u001b[39m\n",
      "\u001b[1mDelimiter:\u001b[22m \",\"\n",
      "\u001b[31mchr\u001b[39m (4): experience, hashedEmail, name, gender\n",
      "\u001b[32mdbl\u001b[39m (2): played_hours, Age\n",
      "\u001b[33mlgl\u001b[39m (1): subscribe\n",
      "\n",
      "\u001b[36mℹ\u001b[39m Use `spec()` to retrieve the full column specification for this data.\n",
      "\u001b[36mℹ\u001b[39m Specify the column types or set `show_col_types = FALSE` to quiet this message.\n"
     ]
    },
    {
     "data": {
      "text/html": [
       "<table class=\"dataframe\">\n",
       "<caption>A tibble: 6 × 7</caption>\n",
       "<thead>\n",
       "\t<tr><th scope=col>experience</th><th scope=col>subscribe</th><th scope=col>hashedEmail</th><th scope=col>played_hours</th><th scope=col>name</th><th scope=col>gender</th><th scope=col>Age</th></tr>\n",
       "\t<tr><th scope=col>&lt;chr&gt;</th><th scope=col>&lt;lgl&gt;</th><th scope=col>&lt;chr&gt;</th><th scope=col>&lt;dbl&gt;</th><th scope=col>&lt;chr&gt;</th><th scope=col>&lt;chr&gt;</th><th scope=col>&lt;dbl&gt;</th></tr>\n",
       "</thead>\n",
       "<tbody>\n",
       "\t<tr><td>Pro    </td><td> TRUE</td><td>f6daba428a5e19a3d47574858c13550499be23603422e6a0ee9728f8b53e192d</td><td>30.3</td><td>Morgan   </td><td>Male  </td><td> 9</td></tr>\n",
       "\t<tr><td>Veteran</td><td> TRUE</td><td>f3c813577c458ba0dfef80996f8f32c93b6e8af1fa939732842f2312358a88e9</td><td> 3.8</td><td>Christian</td><td>Male  </td><td>17</td></tr>\n",
       "\t<tr><td>Veteran</td><td>FALSE</td><td>b674dd7ee0d24096d1c019615ce4d12b20fcbff12d79d3c5a9d2118eb7ccbb28</td><td> 0.0</td><td>Blake    </td><td>Male  </td><td>17</td></tr>\n",
       "\t<tr><td>Amateur</td><td> TRUE</td><td>23fe711e0e3b77f1da7aa221ab1192afe21648d47d2b4fa7a5a659ff443a0eb5</td><td> 0.7</td><td>Flora    </td><td>Female</td><td>21</td></tr>\n",
       "\t<tr><td>Regular</td><td> TRUE</td><td>7dc01f10bf20671ecfccdac23812b1b415acd42c2147cb0af4d48fcce2420f3e</td><td> 0.1</td><td>Kylie    </td><td>Male  </td><td>21</td></tr>\n",
       "\t<tr><td>Amateur</td><td> TRUE</td><td>f58aad5996a435f16b0284a3b267f973f9af99e7a89bee0430055a44fa92f977</td><td> 0.0</td><td>Adrian   </td><td>Female</td><td>17</td></tr>\n",
       "</tbody>\n",
       "</table>\n"
      ],
      "text/latex": [
       "A tibble: 6 × 7\n",
       "\\begin{tabular}{lllllll}\n",
       " experience & subscribe & hashedEmail & played\\_hours & name & gender & Age\\\\\n",
       " <chr> & <lgl> & <chr> & <dbl> & <chr> & <chr> & <dbl>\\\\\n",
       "\\hline\n",
       "\t Pro     &  TRUE & f6daba428a5e19a3d47574858c13550499be23603422e6a0ee9728f8b53e192d & 30.3 & Morgan    & Male   &  9\\\\\n",
       "\t Veteran &  TRUE & f3c813577c458ba0dfef80996f8f32c93b6e8af1fa939732842f2312358a88e9 &  3.8 & Christian & Male   & 17\\\\\n",
       "\t Veteran & FALSE & b674dd7ee0d24096d1c019615ce4d12b20fcbff12d79d3c5a9d2118eb7ccbb28 &  0.0 & Blake     & Male   & 17\\\\\n",
       "\t Amateur &  TRUE & 23fe711e0e3b77f1da7aa221ab1192afe21648d47d2b4fa7a5a659ff443a0eb5 &  0.7 & Flora     & Female & 21\\\\\n",
       "\t Regular &  TRUE & 7dc01f10bf20671ecfccdac23812b1b415acd42c2147cb0af4d48fcce2420f3e &  0.1 & Kylie     & Male   & 21\\\\\n",
       "\t Amateur &  TRUE & f58aad5996a435f16b0284a3b267f973f9af99e7a89bee0430055a44fa92f977 &  0.0 & Adrian    & Female & 17\\\\\n",
       "\\end{tabular}\n"
      ],
      "text/markdown": [
       "\n",
       "A tibble: 6 × 7\n",
       "\n",
       "| experience &lt;chr&gt; | subscribe &lt;lgl&gt; | hashedEmail &lt;chr&gt; | played_hours &lt;dbl&gt; | name &lt;chr&gt; | gender &lt;chr&gt; | Age &lt;dbl&gt; |\n",
       "|---|---|---|---|---|---|---|\n",
       "| Pro     |  TRUE | f6daba428a5e19a3d47574858c13550499be23603422e6a0ee9728f8b53e192d | 30.3 | Morgan    | Male   |  9 |\n",
       "| Veteran |  TRUE | f3c813577c458ba0dfef80996f8f32c93b6e8af1fa939732842f2312358a88e9 |  3.8 | Christian | Male   | 17 |\n",
       "| Veteran | FALSE | b674dd7ee0d24096d1c019615ce4d12b20fcbff12d79d3c5a9d2118eb7ccbb28 |  0.0 | Blake     | Male   | 17 |\n",
       "| Amateur |  TRUE | 23fe711e0e3b77f1da7aa221ab1192afe21648d47d2b4fa7a5a659ff443a0eb5 |  0.7 | Flora     | Female | 21 |\n",
       "| Regular |  TRUE | 7dc01f10bf20671ecfccdac23812b1b415acd42c2147cb0af4d48fcce2420f3e |  0.1 | Kylie     | Male   | 21 |\n",
       "| Amateur |  TRUE | f58aad5996a435f16b0284a3b267f973f9af99e7a89bee0430055a44fa92f977 |  0.0 | Adrian    | Female | 17 |\n",
       "\n"
      ],
      "text/plain": [
       "  experience subscribe\n",
       "1 Pro         TRUE    \n",
       "2 Veteran     TRUE    \n",
       "3 Veteran    FALSE    \n",
       "4 Amateur     TRUE    \n",
       "5 Regular     TRUE    \n",
       "6 Amateur     TRUE    \n",
       "  hashedEmail                                                      played_hours\n",
       "1 f6daba428a5e19a3d47574858c13550499be23603422e6a0ee9728f8b53e192d 30.3        \n",
       "2 f3c813577c458ba0dfef80996f8f32c93b6e8af1fa939732842f2312358a88e9  3.8        \n",
       "3 b674dd7ee0d24096d1c019615ce4d12b20fcbff12d79d3c5a9d2118eb7ccbb28  0.0        \n",
       "4 23fe711e0e3b77f1da7aa221ab1192afe21648d47d2b4fa7a5a659ff443a0eb5  0.7        \n",
       "5 7dc01f10bf20671ecfccdac23812b1b415acd42c2147cb0af4d48fcce2420f3e  0.1        \n",
       "6 f58aad5996a435f16b0284a3b267f973f9af99e7a89bee0430055a44fa92f977  0.0        \n",
       "  name      gender Age\n",
       "1 Morgan    Male    9 \n",
       "2 Christian Male   17 \n",
       "3 Blake     Male   17 \n",
       "4 Flora     Female 21 \n",
       "5 Kylie     Male   21 \n",
       "6 Adrian    Female 17 "
      ]
     },
     "metadata": {},
     "output_type": "display_data"
    }
   ],
   "source": [
    "player <- read_csv(\"players.csv\")\n",
    "head(player)"
   ]
  },
  {
   "cell_type": "markdown",
   "id": "c6703319-76a1-4e12-af22-42c134b2855a",
   "metadata": {},
   "source": [
    "Since our variables are played hours, age, and gender, so we should remove those we don't need."
   ]
  },
  {
   "cell_type": "code",
   "execution_count": 21,
   "id": "cd334ecb-bd54-4d91-852f-5d7ce16801d2",
   "metadata": {},
   "outputs": [
    {
     "data": {
      "text/html": [
       "<table class=\"dataframe\">\n",
       "<caption>A tibble: 6 × 5</caption>\n",
       "<thead>\n",
       "\t<tr><th scope=col>experience</th><th scope=col>subscribe</th><th scope=col>played_hours</th><th scope=col>gender</th><th scope=col>Age</th></tr>\n",
       "\t<tr><th scope=col>&lt;chr&gt;</th><th scope=col>&lt;lgl&gt;</th><th scope=col>&lt;dbl&gt;</th><th scope=col>&lt;chr&gt;</th><th scope=col>&lt;dbl&gt;</th></tr>\n",
       "</thead>\n",
       "<tbody>\n",
       "\t<tr><td>Pro    </td><td> TRUE</td><td>30.3</td><td>Male  </td><td> 9</td></tr>\n",
       "\t<tr><td>Veteran</td><td> TRUE</td><td> 3.8</td><td>Male  </td><td>17</td></tr>\n",
       "\t<tr><td>Veteran</td><td>FALSE</td><td> 0.0</td><td>Male  </td><td>17</td></tr>\n",
       "\t<tr><td>Amateur</td><td> TRUE</td><td> 0.7</td><td>Female</td><td>21</td></tr>\n",
       "\t<tr><td>Regular</td><td> TRUE</td><td> 0.1</td><td>Male  </td><td>21</td></tr>\n",
       "\t<tr><td>Amateur</td><td> TRUE</td><td> 0.0</td><td>Female</td><td>17</td></tr>\n",
       "</tbody>\n",
       "</table>\n"
      ],
      "text/latex": [
       "A tibble: 6 × 5\n",
       "\\begin{tabular}{lllll}\n",
       " experience & subscribe & played\\_hours & gender & Age\\\\\n",
       " <chr> & <lgl> & <dbl> & <chr> & <dbl>\\\\\n",
       "\\hline\n",
       "\t Pro     &  TRUE & 30.3 & Male   &  9\\\\\n",
       "\t Veteran &  TRUE &  3.8 & Male   & 17\\\\\n",
       "\t Veteran & FALSE &  0.0 & Male   & 17\\\\\n",
       "\t Amateur &  TRUE &  0.7 & Female & 21\\\\\n",
       "\t Regular &  TRUE &  0.1 & Male   & 21\\\\\n",
       "\t Amateur &  TRUE &  0.0 & Female & 17\\\\\n",
       "\\end{tabular}\n"
      ],
      "text/markdown": [
       "\n",
       "A tibble: 6 × 5\n",
       "\n",
       "| experience &lt;chr&gt; | subscribe &lt;lgl&gt; | played_hours &lt;dbl&gt; | gender &lt;chr&gt; | Age &lt;dbl&gt; |\n",
       "|---|---|---|---|---|\n",
       "| Pro     |  TRUE | 30.3 | Male   |  9 |\n",
       "| Veteran |  TRUE |  3.8 | Male   | 17 |\n",
       "| Veteran | FALSE |  0.0 | Male   | 17 |\n",
       "| Amateur |  TRUE |  0.7 | Female | 21 |\n",
       "| Regular |  TRUE |  0.1 | Male   | 21 |\n",
       "| Amateur |  TRUE |  0.0 | Female | 17 |\n",
       "\n"
      ],
      "text/plain": [
       "  experience subscribe played_hours gender Age\n",
       "1 Pro         TRUE     30.3         Male    9 \n",
       "2 Veteran     TRUE      3.8         Male   17 \n",
       "3 Veteran    FALSE      0.0         Male   17 \n",
       "4 Amateur     TRUE      0.7         Female 21 \n",
       "5 Regular     TRUE      0.1         Male   21 \n",
       "6 Amateur     TRUE      0.0         Female 17 "
      ]
     },
     "metadata": {},
     "output_type": "display_data"
    }
   ],
   "source": [
    "clean_player <- select(player, -hashedEmail, -name)\n",
    "head(clean_player)"
   ]
  },
  {
   "cell_type": "code",
   "execution_count": 22,
   "id": "503a915e-9476-4e53-a580-e4eb49f3726d",
   "metadata": {},
   "outputs": [
    {
     "data": {
      "text/html": [
       "<table class=\"dataframe\">\n",
       "<caption>A tibble: 7 × 2</caption>\n",
       "<thead>\n",
       "\t<tr><th scope=col>gender</th><th scope=col>count</th></tr>\n",
       "\t<tr><th scope=col>&lt;chr&gt;</th><th scope=col>&lt;int&gt;</th></tr>\n",
       "</thead>\n",
       "<tbody>\n",
       "\t<tr><td>Agender          </td><td>  2</td></tr>\n",
       "\t<tr><td>Female           </td><td> 37</td></tr>\n",
       "\t<tr><td>Male             </td><td>124</td></tr>\n",
       "\t<tr><td>Non-binary       </td><td> 15</td></tr>\n",
       "\t<tr><td>Other            </td><td>  1</td></tr>\n",
       "\t<tr><td>Prefer not to say</td><td> 11</td></tr>\n",
       "\t<tr><td>Two-Spirited     </td><td>  6</td></tr>\n",
       "</tbody>\n",
       "</table>\n"
      ],
      "text/latex": [
       "A tibble: 7 × 2\n",
       "\\begin{tabular}{ll}\n",
       " gender & count\\\\\n",
       " <chr> & <int>\\\\\n",
       "\\hline\n",
       "\t Agender           &   2\\\\\n",
       "\t Female            &  37\\\\\n",
       "\t Male              & 124\\\\\n",
       "\t Non-binary        &  15\\\\\n",
       "\t Other             &   1\\\\\n",
       "\t Prefer not to say &  11\\\\\n",
       "\t Two-Spirited      &   6\\\\\n",
       "\\end{tabular}\n"
      ],
      "text/markdown": [
       "\n",
       "A tibble: 7 × 2\n",
       "\n",
       "| gender &lt;chr&gt; | count &lt;int&gt; |\n",
       "|---|---|\n",
       "| Agender           |   2 |\n",
       "| Female            |  37 |\n",
       "| Male              | 124 |\n",
       "| Non-binary        |  15 |\n",
       "| Other             |   1 |\n",
       "| Prefer not to say |  11 |\n",
       "| Two-Spirited      |   6 |\n",
       "\n"
      ],
      "text/plain": [
       "  gender            count\n",
       "1 Agender             2  \n",
       "2 Female             37  \n",
       "3 Male              124  \n",
       "4 Non-binary         15  \n",
       "5 Other               1  \n",
       "6 Prefer not to say  11  \n",
       "7 Two-Spirited        6  "
      ]
     },
     "metadata": {},
     "output_type": "display_data"
    }
   ],
   "source": [
    "gender <- clean_player |>\n",
    "  group_by(gender) |>\n",
    "  summarize(count = n())\n",
    "\n",
    "gender"
   ]
  },
  {
   "cell_type": "markdown",
   "id": "0e7245e5-369f-4eb4-8782-3489e0243197",
   "metadata": {},
   "source": [
    "We have a total of 196 rows; there are multiple genders in the data. We combine a few types of gender into \"gender others\"."
   ]
  },
  {
   "cell_type": "code",
   "execution_count": 27,
   "id": "7f73434b-ee6c-4cec-9e9f-c64004fb773e",
   "metadata": {},
   "outputs": [
    {
     "name": "stderr",
     "output_type": "stream",
     "text": [
      "Updating HTML index of packages in '.Library'\n",
      "\n",
      "Making 'packages.html' ...\n",
      " done\n",
      "\n"
     ]
    }
   ],
   "source": [
    "install.packages(\"mltools\")\n",
    "library(mltools)\n",
    "library(data.table)"
   ]
  },
  {
   "cell_type": "code",
   "execution_count": 28,
   "id": "dc7ee24f-eee0-4175-a1db-6a65b4c931f4",
   "metadata": {},
   "outputs": [
    {
     "data": {
      "text/html": [
       "<table class=\"dataframe\">\n",
       "<caption>A data.table: 6 × 11</caption>\n",
       "<thead>\n",
       "\t<tr><th scope=col>experience</th><th scope=col>subscribe</th><th scope=col>played_hours</th><th scope=col>gender_Agender</th><th scope=col>gender_Female</th><th scope=col>gender_Male</th><th scope=col>gender_Non-binary</th><th scope=col>gender_Other</th><th scope=col>gender_Prefer not to say</th><th scope=col>gender_Two-Spirited</th><th scope=col>Age</th></tr>\n",
       "\t<tr><th scope=col>&lt;chr&gt;</th><th scope=col>&lt;lgl&gt;</th><th scope=col>&lt;dbl&gt;</th><th scope=col>&lt;int&gt;</th><th scope=col>&lt;int&gt;</th><th scope=col>&lt;int&gt;</th><th scope=col>&lt;int&gt;</th><th scope=col>&lt;int&gt;</th><th scope=col>&lt;int&gt;</th><th scope=col>&lt;int&gt;</th><th scope=col>&lt;dbl&gt;</th></tr>\n",
       "</thead>\n",
       "<tbody>\n",
       "\t<tr><td>Pro    </td><td> TRUE</td><td>30.3</td><td>0</td><td>0</td><td>1</td><td>0</td><td>0</td><td>0</td><td>0</td><td> 9</td></tr>\n",
       "\t<tr><td>Veteran</td><td> TRUE</td><td> 3.8</td><td>0</td><td>0</td><td>1</td><td>0</td><td>0</td><td>0</td><td>0</td><td>17</td></tr>\n",
       "\t<tr><td>Veteran</td><td>FALSE</td><td> 0.0</td><td>0</td><td>0</td><td>1</td><td>0</td><td>0</td><td>0</td><td>0</td><td>17</td></tr>\n",
       "\t<tr><td>Amateur</td><td> TRUE</td><td> 0.7</td><td>0</td><td>1</td><td>0</td><td>0</td><td>0</td><td>0</td><td>0</td><td>21</td></tr>\n",
       "\t<tr><td>Regular</td><td> TRUE</td><td> 0.1</td><td>0</td><td>0</td><td>1</td><td>0</td><td>0</td><td>0</td><td>0</td><td>21</td></tr>\n",
       "\t<tr><td>Amateur</td><td> TRUE</td><td> 0.0</td><td>0</td><td>1</td><td>0</td><td>0</td><td>0</td><td>0</td><td>0</td><td>17</td></tr>\n",
       "</tbody>\n",
       "</table>\n"
      ],
      "text/latex": [
       "A data.table: 6 × 11\n",
       "\\begin{tabular}{lllllllllll}\n",
       " experience & subscribe & played\\_hours & gender\\_Agender & gender\\_Female & gender\\_Male & gender\\_Non-binary & gender\\_Other & gender\\_Prefer not to say & gender\\_Two-Spirited & Age\\\\\n",
       " <chr> & <lgl> & <dbl> & <int> & <int> & <int> & <int> & <int> & <int> & <int> & <dbl>\\\\\n",
       "\\hline\n",
       "\t Pro     &  TRUE & 30.3 & 0 & 0 & 1 & 0 & 0 & 0 & 0 &  9\\\\\n",
       "\t Veteran &  TRUE &  3.8 & 0 & 0 & 1 & 0 & 0 & 0 & 0 & 17\\\\\n",
       "\t Veteran & FALSE &  0.0 & 0 & 0 & 1 & 0 & 0 & 0 & 0 & 17\\\\\n",
       "\t Amateur &  TRUE &  0.7 & 0 & 1 & 0 & 0 & 0 & 0 & 0 & 21\\\\\n",
       "\t Regular &  TRUE &  0.1 & 0 & 0 & 1 & 0 & 0 & 0 & 0 & 21\\\\\n",
       "\t Amateur &  TRUE &  0.0 & 0 & 1 & 0 & 0 & 0 & 0 & 0 & 17\\\\\n",
       "\\end{tabular}\n"
      ],
      "text/markdown": [
       "\n",
       "A data.table: 6 × 11\n",
       "\n",
       "| experience &lt;chr&gt; | subscribe &lt;lgl&gt; | played_hours &lt;dbl&gt; | gender_Agender &lt;int&gt; | gender_Female &lt;int&gt; | gender_Male &lt;int&gt; | gender_Non-binary &lt;int&gt; | gender_Other &lt;int&gt; | gender_Prefer not to say &lt;int&gt; | gender_Two-Spirited &lt;int&gt; | Age &lt;dbl&gt; |\n",
       "|---|---|---|---|---|---|---|---|---|---|---|\n",
       "| Pro     |  TRUE | 30.3 | 0 | 0 | 1 | 0 | 0 | 0 | 0 |  9 |\n",
       "| Veteran |  TRUE |  3.8 | 0 | 0 | 1 | 0 | 0 | 0 | 0 | 17 |\n",
       "| Veteran | FALSE |  0.0 | 0 | 0 | 1 | 0 | 0 | 0 | 0 | 17 |\n",
       "| Amateur |  TRUE |  0.7 | 0 | 1 | 0 | 0 | 0 | 0 | 0 | 21 |\n",
       "| Regular |  TRUE |  0.1 | 0 | 0 | 1 | 0 | 0 | 0 | 0 | 21 |\n",
       "| Amateur |  TRUE |  0.0 | 0 | 1 | 0 | 0 | 0 | 0 | 0 | 17 |\n",
       "\n"
      ],
      "text/plain": [
       "  experience subscribe played_hours gender_Agender gender_Female gender_Male\n",
       "1 Pro         TRUE     30.3         0              0             1          \n",
       "2 Veteran     TRUE      3.8         0              0             1          \n",
       "3 Veteran    FALSE      0.0         0              0             1          \n",
       "4 Amateur     TRUE      0.7         0              1             0          \n",
       "5 Regular     TRUE      0.1         0              0             1          \n",
       "6 Amateur     TRUE      0.0         0              1             0          \n",
       "  gender_Non-binary gender_Other gender_Prefer not to say gender_Two-Spirited\n",
       "1 0                 0            0                        0                  \n",
       "2 0                 0            0                        0                  \n",
       "3 0                 0            0                        0                  \n",
       "4 0                 0            0                        0                  \n",
       "5 0                 0            0                        0                  \n",
       "6 0                 0            0                        0                  \n",
       "  Age\n",
       "1  9 \n",
       "2 17 \n",
       "3 17 \n",
       "4 21 \n",
       "5 21 \n",
       "6 17 "
      ]
     },
     "metadata": {},
     "output_type": "display_data"
    }
   ],
   "source": [
    "clean_player$gender <- as.factor(clean_player$gender)\n",
    "player_1h <- one_hot(as.data.table(clean_player))\n",
    "head(player_1h)"
   ]
  },
  {
   "cell_type": "code",
   "execution_count": 29,
   "id": "8bb11aab-a60e-4a92-b5bf-c492c8387827",
   "metadata": {},
   "outputs": [
    {
     "data": {
      "text/html": [
       "<table class=\"dataframe\">\n",
       "<caption>A data.table: 6 × 9</caption>\n",
       "<thead>\n",
       "\t<tr><th scope=col>experience</th><th scope=col>subscribe</th><th scope=col>played_hours</th><th scope=col>gender_Female</th><th scope=col>gender_Male</th><th scope=col>gender_Non-binary</th><th scope=col>gender_Prefer not to say</th><th scope=col>Age</th><th scope=col>gender_others</th></tr>\n",
       "\t<tr><th scope=col>&lt;chr&gt;</th><th scope=col>&lt;lgl&gt;</th><th scope=col>&lt;dbl&gt;</th><th scope=col>&lt;int&gt;</th><th scope=col>&lt;int&gt;</th><th scope=col>&lt;int&gt;</th><th scope=col>&lt;int&gt;</th><th scope=col>&lt;dbl&gt;</th><th scope=col>&lt;int&gt;</th></tr>\n",
       "</thead>\n",
       "<tbody>\n",
       "\t<tr><td>Pro    </td><td> TRUE</td><td>30.3</td><td>0</td><td>1</td><td>0</td><td>0</td><td> 9</td><td>0</td></tr>\n",
       "\t<tr><td>Veteran</td><td> TRUE</td><td> 3.8</td><td>0</td><td>1</td><td>0</td><td>0</td><td>17</td><td>0</td></tr>\n",
       "\t<tr><td>Veteran</td><td>FALSE</td><td> 0.0</td><td>0</td><td>1</td><td>0</td><td>0</td><td>17</td><td>0</td></tr>\n",
       "\t<tr><td>Amateur</td><td> TRUE</td><td> 0.7</td><td>1</td><td>0</td><td>0</td><td>0</td><td>21</td><td>0</td></tr>\n",
       "\t<tr><td>Regular</td><td> TRUE</td><td> 0.1</td><td>0</td><td>1</td><td>0</td><td>0</td><td>21</td><td>0</td></tr>\n",
       "\t<tr><td>Amateur</td><td> TRUE</td><td> 0.0</td><td>1</td><td>0</td><td>0</td><td>0</td><td>17</td><td>0</td></tr>\n",
       "</tbody>\n",
       "</table>\n"
      ],
      "text/latex": [
       "A data.table: 6 × 9\n",
       "\\begin{tabular}{lllllllll}\n",
       " experience & subscribe & played\\_hours & gender\\_Female & gender\\_Male & gender\\_Non-binary & gender\\_Prefer not to say & Age & gender\\_others\\\\\n",
       " <chr> & <lgl> & <dbl> & <int> & <int> & <int> & <int> & <dbl> & <int>\\\\\n",
       "\\hline\n",
       "\t Pro     &  TRUE & 30.3 & 0 & 1 & 0 & 0 &  9 & 0\\\\\n",
       "\t Veteran &  TRUE &  3.8 & 0 & 1 & 0 & 0 & 17 & 0\\\\\n",
       "\t Veteran & FALSE &  0.0 & 0 & 1 & 0 & 0 & 17 & 0\\\\\n",
       "\t Amateur &  TRUE &  0.7 & 1 & 0 & 0 & 0 & 21 & 0\\\\\n",
       "\t Regular &  TRUE &  0.1 & 0 & 1 & 0 & 0 & 21 & 0\\\\\n",
       "\t Amateur &  TRUE &  0.0 & 1 & 0 & 0 & 0 & 17 & 0\\\\\n",
       "\\end{tabular}\n"
      ],
      "text/markdown": [
       "\n",
       "A data.table: 6 × 9\n",
       "\n",
       "| experience &lt;chr&gt; | subscribe &lt;lgl&gt; | played_hours &lt;dbl&gt; | gender_Female &lt;int&gt; | gender_Male &lt;int&gt; | gender_Non-binary &lt;int&gt; | gender_Prefer not to say &lt;int&gt; | Age &lt;dbl&gt; | gender_others &lt;int&gt; |\n",
       "|---|---|---|---|---|---|---|---|---|\n",
       "| Pro     |  TRUE | 30.3 | 0 | 1 | 0 | 0 |  9 | 0 |\n",
       "| Veteran |  TRUE |  3.8 | 0 | 1 | 0 | 0 | 17 | 0 |\n",
       "| Veteran | FALSE |  0.0 | 0 | 1 | 0 | 0 | 17 | 0 |\n",
       "| Amateur |  TRUE |  0.7 | 1 | 0 | 0 | 0 | 21 | 0 |\n",
       "| Regular |  TRUE |  0.1 | 0 | 1 | 0 | 0 | 21 | 0 |\n",
       "| Amateur |  TRUE |  0.0 | 1 | 0 | 0 | 0 | 17 | 0 |\n",
       "\n"
      ],
      "text/plain": [
       "  experience subscribe played_hours gender_Female gender_Male gender_Non-binary\n",
       "1 Pro         TRUE     30.3         0             1           0                \n",
       "2 Veteran     TRUE      3.8         0             1           0                \n",
       "3 Veteran    FALSE      0.0         0             1           0                \n",
       "4 Amateur     TRUE      0.7         1             0           0                \n",
       "5 Regular     TRUE      0.1         0             1           0                \n",
       "6 Amateur     TRUE      0.0         1             0           0                \n",
       "  gender_Prefer not to say Age gender_others\n",
       "1 0                         9  0            \n",
       "2 0                        17  0            \n",
       "3 0                        17  0            \n",
       "4 0                        21  0            \n",
       "5 0                        21  0            \n",
       "6 0                        17  0            "
      ]
     },
     "metadata": {},
     "output_type": "display_data"
    }
   ],
   "source": [
    "player_1h |>\n",
    "  mutate(gender_others = gender_Agender + gender_Other + `gender_Two-Spirited`) |>\n",
    "  select(-gender_Agender, -gender_Other, -`gender_Two-Spirited`) |>\n",
    "  head()"
   ]
  },
  {
   "cell_type": "code",
   "execution_count": 30,
   "id": "a3dc971a-f2ca-438d-b196-8b7ee33ccd9d",
   "metadata": {},
   "outputs": [
    {
     "data": {
      "text/html": [
       "<table class=\"dataframe\">\n",
       "<caption>A data.table: 6 × 8</caption>\n",
       "<thead>\n",
       "\t<tr><th scope=col>experience_Amateur</th><th scope=col>experience_Beginner</th><th scope=col>experience_Pro</th><th scope=col>experience_Regular</th><th scope=col>experience_Veteran</th><th scope=col>subscribe</th><th scope=col>played_hours</th><th scope=col>Age</th></tr>\n",
       "\t<tr><th scope=col>&lt;int&gt;</th><th scope=col>&lt;int&gt;</th><th scope=col>&lt;int&gt;</th><th scope=col>&lt;int&gt;</th><th scope=col>&lt;int&gt;</th><th scope=col>&lt;lgl&gt;</th><th scope=col>&lt;dbl&gt;</th><th scope=col>&lt;dbl&gt;</th></tr>\n",
       "</thead>\n",
       "<tbody>\n",
       "\t<tr><td>0</td><td>0</td><td>1</td><td>0</td><td>0</td><td> TRUE</td><td>30.3</td><td> 9</td></tr>\n",
       "\t<tr><td>0</td><td>0</td><td>0</td><td>0</td><td>1</td><td> TRUE</td><td> 3.8</td><td>17</td></tr>\n",
       "\t<tr><td>0</td><td>0</td><td>0</td><td>0</td><td>1</td><td>FALSE</td><td> 0.0</td><td>17</td></tr>\n",
       "\t<tr><td>1</td><td>0</td><td>0</td><td>0</td><td>0</td><td> TRUE</td><td> 0.7</td><td>21</td></tr>\n",
       "\t<tr><td>0</td><td>0</td><td>0</td><td>1</td><td>0</td><td> TRUE</td><td> 0.1</td><td>21</td></tr>\n",
       "\t<tr><td>1</td><td>0</td><td>0</td><td>0</td><td>0</td><td> TRUE</td><td> 0.0</td><td>17</td></tr>\n",
       "</tbody>\n",
       "</table>\n"
      ],
      "text/latex": [
       "A data.table: 6 × 8\n",
       "\\begin{tabular}{llllllll}\n",
       " experience\\_Amateur & experience\\_Beginner & experience\\_Pro & experience\\_Regular & experience\\_Veteran & subscribe & played\\_hours & Age\\\\\n",
       " <int> & <int> & <int> & <int> & <int> & <lgl> & <dbl> & <dbl>\\\\\n",
       "\\hline\n",
       "\t 0 & 0 & 1 & 0 & 0 &  TRUE & 30.3 &  9\\\\\n",
       "\t 0 & 0 & 0 & 0 & 1 &  TRUE &  3.8 & 17\\\\\n",
       "\t 0 & 0 & 0 & 0 & 1 & FALSE &  0.0 & 17\\\\\n",
       "\t 1 & 0 & 0 & 0 & 0 &  TRUE &  0.7 & 21\\\\\n",
       "\t 0 & 0 & 0 & 1 & 0 &  TRUE &  0.1 & 21\\\\\n",
       "\t 1 & 0 & 0 & 0 & 0 &  TRUE &  0.0 & 17\\\\\n",
       "\\end{tabular}\n"
      ],
      "text/markdown": [
       "\n",
       "A data.table: 6 × 8\n",
       "\n",
       "| experience_Amateur &lt;int&gt; | experience_Beginner &lt;int&gt; | experience_Pro &lt;int&gt; | experience_Regular &lt;int&gt; | experience_Veteran &lt;int&gt; | subscribe &lt;lgl&gt; | played_hours &lt;dbl&gt; | Age &lt;dbl&gt; |\n",
       "|---|---|---|---|---|---|---|---|\n",
       "| 0 | 0 | 1 | 0 | 0 |  TRUE | 30.3 |  9 |\n",
       "| 0 | 0 | 0 | 0 | 1 |  TRUE |  3.8 | 17 |\n",
       "| 0 | 0 | 0 | 0 | 1 | FALSE |  0.0 | 17 |\n",
       "| 1 | 0 | 0 | 0 | 0 |  TRUE |  0.7 | 21 |\n",
       "| 0 | 0 | 0 | 1 | 0 |  TRUE |  0.1 | 21 |\n",
       "| 1 | 0 | 0 | 0 | 0 |  TRUE |  0.0 | 17 |\n",
       "\n"
      ],
      "text/plain": [
       "  experience_Amateur experience_Beginner experience_Pro experience_Regular\n",
       "1 0                  0                   1              0                 \n",
       "2 0                  0                   0              0                 \n",
       "3 0                  0                   0              0                 \n",
       "4 1                  0                   0              0                 \n",
       "5 0                  0                   0              1                 \n",
       "6 1                  0                   0              0                 \n",
       "  experience_Veteran subscribe played_hours Age\n",
       "1 0                   TRUE     30.3          9 \n",
       "2 1                   TRUE      3.8         17 \n",
       "3 1                  FALSE      0.0         17 \n",
       "4 0                   TRUE      0.7         21 \n",
       "5 0                   TRUE      0.1         21 \n",
       "6 0                   TRUE      0.0         17 "
      ]
     },
     "metadata": {},
     "output_type": "display_data"
    }
   ],
   "source": [
    "clean_player$experience <- as.factor(clean_player$experience)\n",
    "player_exp <- clean_player |> select(-gender)\n",
    "player_1h_exp <- one_hot(as.data.table(player_exp))\n",
    "head(player_1h_exp)"
   ]
  },
  {
   "cell_type": "code",
   "execution_count": 33,
   "id": "5388b25f-ff57-4fe9-b87d-16eac12da885",
   "metadata": {},
   "outputs": [
    {
     "ename": "ERROR",
     "evalue": "\u001b[1m\u001b[33mError\u001b[39m in `fct_recode()`:\u001b[22m\n\u001b[1m\u001b[22m\u001b[33m!\u001b[39m `.f` must be a factor or character vector, not a double vector.\n",
     "output_type": "error",
     "traceback": [
      "\u001b[1m\u001b[33mError\u001b[39m in `fct_recode()`:\u001b[22m\n\u001b[1m\u001b[22m\u001b[33m!\u001b[39m `.f` must be a factor or character vector, not a double vector.\nTraceback:\n",
      "1. fct_recode(player_exp$experience, `1` = \"Beginner\", `2` = \"Amateur\", \n .     `3` = \"Regular\", `4` = \"Veteran\", `5` = \"Pro\")",
      "2. check_factor(.f)",
      "3. cli::cli_abort(\"{.arg {arg}} must be a factor or character vector, not {.obj_type_friendly {x}}.\", \n .     call = call)",
      "4. rlang::abort(message, ..., call = call, use_cli_format = TRUE, \n .     .frame = .frame)",
      "5. signal_abort(cnd, .file)"
     ]
    }
   ],
   "source": [
    "player_exp$experience <- player_exp$experience |>\n",
    "  fct_recode(\"1\" = \"Beginner\", \n",
    "             \"2\" = \"Amateur\", \n",
    "             \"3\" = \"Regular\", \n",
    "             \"4\" = \"Veteran\", \n",
    "             \"5\" = \"Pro\")\n",
    "head(player_exp)"
   ]
  },
  {
   "cell_type": "code",
   "execution_count": 32,
   "id": "ffed2fb3-a637-46e4-9659-8f1b1f04fbdc",
   "metadata": {},
   "outputs": [
    {
     "data": {
      "text/html": [
       "<table class=\"dataframe\">\n",
       "<caption>A tibble: 6 × 4</caption>\n",
       "<thead>\n",
       "\t<tr><th scope=col>experience</th><th scope=col>subscribe</th><th scope=col>played_hours</th><th scope=col>Age</th></tr>\n",
       "\t<tr><th scope=col>&lt;dbl&gt;</th><th scope=col>&lt;lgl&gt;</th><th scope=col>&lt;dbl&gt;</th><th scope=col>&lt;dbl&gt;</th></tr>\n",
       "</thead>\n",
       "<tbody>\n",
       "\t<tr><td>3</td><td> TRUE</td><td>30.3</td><td> 9</td></tr>\n",
       "\t<tr><td>5</td><td> TRUE</td><td> 3.8</td><td>17</td></tr>\n",
       "\t<tr><td>5</td><td>FALSE</td><td> 0.0</td><td>17</td></tr>\n",
       "\t<tr><td>1</td><td> TRUE</td><td> 0.7</td><td>21</td></tr>\n",
       "\t<tr><td>4</td><td> TRUE</td><td> 0.1</td><td>21</td></tr>\n",
       "\t<tr><td>1</td><td> TRUE</td><td> 0.0</td><td>17</td></tr>\n",
       "</tbody>\n",
       "</table>\n"
      ],
      "text/latex": [
       "A tibble: 6 × 4\n",
       "\\begin{tabular}{llll}\n",
       " experience & subscribe & played\\_hours & Age\\\\\n",
       " <dbl> & <lgl> & <dbl> & <dbl>\\\\\n",
       "\\hline\n",
       "\t 3 &  TRUE & 30.3 &  9\\\\\n",
       "\t 5 &  TRUE &  3.8 & 17\\\\\n",
       "\t 5 & FALSE &  0.0 & 17\\\\\n",
       "\t 1 &  TRUE &  0.7 & 21\\\\\n",
       "\t 4 &  TRUE &  0.1 & 21\\\\\n",
       "\t 1 &  TRUE &  0.0 & 17\\\\\n",
       "\\end{tabular}\n"
      ],
      "text/markdown": [
       "\n",
       "A tibble: 6 × 4\n",
       "\n",
       "| experience &lt;dbl&gt; | subscribe &lt;lgl&gt; | played_hours &lt;dbl&gt; | Age &lt;dbl&gt; |\n",
       "|---|---|---|---|\n",
       "| 3 |  TRUE | 30.3 |  9 |\n",
       "| 5 |  TRUE |  3.8 | 17 |\n",
       "| 5 | FALSE |  0.0 | 17 |\n",
       "| 1 |  TRUE |  0.7 | 21 |\n",
       "| 4 |  TRUE |  0.1 | 21 |\n",
       "| 1 |  TRUE |  0.0 | 17 |\n",
       "\n"
      ],
      "text/plain": [
       "  experience subscribe played_hours Age\n",
       "1 3           TRUE     30.3          9 \n",
       "2 5           TRUE      3.8         17 \n",
       "3 5          FALSE      0.0         17 \n",
       "4 1           TRUE      0.7         21 \n",
       "5 4           TRUE      0.1         21 \n",
       "6 1           TRUE      0.0         17 "
      ]
     },
     "metadata": {},
     "output_type": "display_data"
    }
   ],
   "source": [
    "player_exp$experience <- as.numeric(player_exp$experience)\n",
    "head(player_exp)"
   ]
  },
  {
   "cell_type": "code",
   "execution_count": null,
   "id": "e2b1cab4-0c76-476c-be08-a3e0e7112cf8",
   "metadata": {},
   "outputs": [],
   "source": []
  }
 ],
 "metadata": {
  "kernelspec": {
   "display_name": "R",
   "language": "R",
   "name": "ir"
  },
  "language_info": {
   "codemirror_mode": "r",
   "file_extension": ".r",
   "mimetype": "text/x-r-source",
   "name": "R",
   "pygments_lexer": "r",
   "version": "4.3.3"
  }
 },
 "nbformat": 4,
 "nbformat_minor": 5
}
