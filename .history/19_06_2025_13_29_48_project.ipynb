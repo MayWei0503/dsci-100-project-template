{
 "cells": [
  {
   "cell_type": "markdown",
   "id": "e51f5722-d186-4567-8d51-052ddaa96686",
   "metadata": {},
   "source": [
    "#  Can Played Hours and Age Predict Newsletter Subscription?\n",
    "## A Data-Science Analysis of the UBC Minecraft Research-Server Logs\n",
    "*May Wei· DSCI _100 · UBC, 2025-06-17*\n",
    "## Link to github repository"
   ]
  },
  {
   "cell_type": "markdown",
   "id": "b45ff6b4-b721-414d-b92b-c66759a95978",
   "metadata": {},
   "source": [
    "## 1. Introduction\n",
    "### 1.1 Background\n",
    "A research group at the University of British Columbia has launched a Minecraft server that records how players behave in virtual environments.  The server collects rich in-game activity data, which can be used to study user engagement and support research in human-computer interaction and AI.\n",
    "\n",
    "To maintain engagement and allocate server resources effectively, the research team uses a game-related newsletter.  Predicting which players are likely to subscribe can help with targeted recruitment and infrastructure planning.\n",
    "\n",
    "In the commercial gaming industry, predictive marketing is widely used to retain players by sending customized offers to those at risk of leaving (Ghantasala, 2024).  Similarly, understanding which players are more inclined to subscribe to game newsletters can improve outreach and user management.\n",
    "\n",
    "This project investigates whether a player’s demographic information (e.g., age, gender, experience) and gameplay patterns (e.g., session frequency, average session length) can predict newsletter subscription status."
   ]
  },
  {
   "cell_type": "markdown",
   "id": "beca907d-67d6-4808-91ba-ff6c4c4de3dc",
   "metadata": {},
   "source": [
    "### Research Question \n",
    " Can played hours, age, and gender predict newsletter subscription in players?"
   ]
  },
  {
   "cell_type": "markdown",
   "id": "6500666b-ed0e-496e-90ba-6f7ad570eb62",
   "metadata": {},
   "source": [
    "The response variable is the binary flag **`subscribed`**, and the explanatory variables are  \n",
    "1. **`hours_played`** – cumulative play-time (h),  \n",
    "2. **`age`** – self-reported age (years),  \n",
    "3. **`gender`** – self-reported gender identity."
   ]
  },
  {
   "cell_type": "markdown",
   "id": "4d7c10a2-d930-4403-8455-9b541cfb804c",
   "metadata": {},
   "source": [
    "## 1.2 Data Description\n",
    "experience: Categorical (Beginner, Amateur, Regular, Veteran, Pro)\n",
    "\n",
    "subscribe: Boolean (TRUE/FALSE) - Newsletter subscription status (response variable)\n",
    "\n",
    "hashedEmail: Unique identifier for each player\n",
    "\n",
    "played_hours: Numeric - Total hours played\n",
    "\n",
    "name: Player name\n",
    "\n",
    "gender: Categorical (Male, Female, Non-binary, Prefer not to say, Two-Spirited, Agender, Other)\n",
    "\n",
    "Age: Numeric - Player age"
   ]
  },
  {
   "cell_type": "markdown",
   "id": "b69dd3c2-3ba5-442d-b3db-1d4d4c78a4b0",
   "metadata": {},
   "source": [
    "# 2. Methods & Results"
   ]
  },
  {
   "cell_type": "markdown",
   "id": "53c29511-6791-4fd3-b858-cecbfe36cad5",
   "metadata": {},
   "source": [
    "## 2.1 Load data"
   ]
  },
  {
   "cell_type": "code",
   "execution_count": null,
   "id": "2e1414dc-8c9c-419d-bbff-42f66e451b52",
   "metadata": {},
   "outputs": [],
   "source": [
    "library(tidyverse)\n",
    "library(tidymodels)"
   ]
  },
  {
   "cell_type": "code",
   "execution_count": null,
   "id": "4c04ad5d-311a-41f3-9668-84396520a61f",
   "metadata": {},
   "outputs": [],
   "source": [
    "player <- read_csv(\"players.csv\")\n",
    "head(player)"
   ]
  },
  {
   "cell_type": "markdown",
   "id": "c6703319-76a1-4e12-af22-42c134b2855a",
   "metadata": {},
   "source": [
    "## 2.2 Clean the data to the format necessary for the planned analysis. \n",
    "### Since our variables are played hours, age, and gender, so we should remove those we don't need."
   ]
  },
  {
   "cell_type": "code",
   "execution_count": null,
   "id": "cd334ecb-bd54-4d91-852f-5d7ce16801d2",
   "metadata": {},
   "outputs": [],
   "source": [
    "clean_player <- mutate(player,subscribe =as.factor(subscribe))|>select( -hashedEmail, -name, -experience, -gender)\n",
    "head(clean_player)"
   ]
  },
  {
   "cell_type": "code",
   "execution_count": null,
   "id": "b57ed7f9-d41f-4771-a11e-6734103ee677",
   "metadata": {},
   "outputs": [],
   "source": [
    "ggplot(player, aes(x = Age, y = played_hours)) +\n",
    "  geom_point(aes(color = experience)) +\n",
    "  labs(\n",
    "    x = \"Age(yr)\",\n",
    "    y = \"Played Time(hr)\",\n",
    "    color = \"Experience\"\n",
    "  )"
   ]
  },
  {
   "cell_type": "code",
   "execution_count": null,
   "id": "3bcbd301-c41e-4493-85fe-51e746e7391b",
   "metadata": {},
   "outputs": [],
   "source": [
    "set.seed(1234)\n",
    "\n",
    "players_split <- initial_split(clean_player, prop = 0.7, strata = subscribe)\n",
    "players_training <- training(players_split)\n",
    "players_testing <- testing(players_split)\n",
    "\n",
    "players_recipe <- recipe(subscribe ~ played_hours + Age, data = players_training) |>\n",
    "  step_scale(all_predictors()) |>\n",
    "  step_center(all_predictors())\n",
    "players_recipe"
   ]
  },
  {
   "cell_type": "code",
   "execution_count": null,
   "id": "9a4571c3-76bd-4190-9e39-1e06a8692906",
   "metadata": {},
   "outputs": [],
   "source": [
    "knn_spec <- nearest_neighbor(weight_func = \"rectangular\", neighbors = tune()) |>\n",
    "  set_engine(\"kknn\") |>\n",
    "  set_mode(\"classification\")"
   ]
  },
  {
   "cell_type": "code",
   "execution_count": null,
   "id": "172e3a96-55b8-42f9-9749-bf3af0c8a2c3",
   "metadata": {},
   "outputs": [],
   "source": [
    "players_vfold <- vfold_cv(players_training, v = 5, strata = subscribe)"
   ]
  },
  {
   "cell_type": "code",
   "execution_count": null,
   "id": "02bab64d-db1a-46e4-a0dd-581aa3ddfd5a",
   "metadata": {},
   "outputs": [],
   "source": [
    "set.seed(1234)\n",
    "k_val <- tibble(neighbors = seq(from = 1, to = 30, by = 1))\n",
    "knn_results <- workflow() |>\n",
    "  add_recipe(players_recipe) |>\n",
    "  add_model(knn_spec) |>\n",
    "  tune_grid(resamples = players_vfold, grid = k_val) |>\n",
    "  collect_metrics()\n",
    "player_accuracy <- filter(knn_results, .metric == \"accuracy\")\n",
    "player_accuracy"
   ]
  },
  {
   "cell_type": "code",
   "execution_count": null,
   "id": "b8e38b2d-248e-457d-b36f-7afbb68d51ae",
   "metadata": {},
   "outputs": [],
   "source": [
    "accuracy_plot <- ggplot(accuracies, aes(x = neighbors, y = mean)) +\n",
    "  geom_point() +\n",
    "  geom_line() +\n",
    "  labs(x = \"Neighbors\", y = \"Accuracy\")\n",
    "\n",
    "accuracy_plot\n",
    "best_k <- accuracies |>\n",
    "  arrange(desc(mean)) |>\n",
    "  head(1) |>\n",
    "  pull(neighbors)\n",
    "\n",
    "best_k"
   ]
  },
  {
   "cell_type": "code",
   "execution_count": null,
   "id": "5d2c0852-19f9-429c-acfe-2b9716764856",
   "metadata": {},
   "outputs": [],
   "source": [
    "best_k <- accuracies |>\n",
    "  arrange(desc(mean)) |>\n",
    "  head(1) |>\n",
    "  pull(neighbors)\n",
    "\n",
    "knn_spec <- nearest_neighbor(weight_func = \"rectangular\", neighbors = best_k) |>\n",
    "  set_engine(\"kknn\") |>\n",
    "  set_mode(\"classification\")\n",
    "\n",
    "knn_fit <- workflow() |>\n",
    "  add_recipe(players_recipe) |>\n",
    "  add_model(knn_spec) |>\n",
    "  fit(data = players_training)\n",
    "\n",
    "my_prediction <- predict(knn_fit, players_testing) |>\n",
    "  bind_cols(players_testing)\n",
    "\n",
    "my_prediction"
   ]
  },
  {
   "cell_type": "code",
   "execution_count": null,
   "id": "691a3aad-ed05-4db0-8135-dcee42d71744",
   "metadata": {},
   "outputs": [],
   "source": [
    "accuracy <- my_prediction |>\n",
    "  accuracy(truth = subscribe, estimate = .pred_class, event_level = \"first\")\n",
    "\n",
    "accuracy"
   ]
  },
  {
   "cell_type": "code",
   "execution_count": null,
   "id": "c634a1d8-d4b0-4f0e-8b2d-f16396c0201d",
   "metadata": {},
   "outputs": [],
   "source": []
  }
 ],
 "metadata": {
  "kernelspec": {
   "display_name": "R",
   "language": "R",
   "name": "ir"
  },
  "language_info": {
   "codemirror_mode": "r",
   "file_extension": ".r",
   "mimetype": "text/x-r-source",
   "name": "R",
   "pygments_lexer": "r",
   "version": "4.3.3"
  }
 },
 "nbformat": 4,
 "nbformat_minor": 5
}
