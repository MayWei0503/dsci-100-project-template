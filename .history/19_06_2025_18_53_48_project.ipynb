{
 "cells": [
  {
   "cell_type": "markdown",
   "id": "e51f5722-d186-4567-8d51-052ddaa96686",
   "metadata": {},
   "source": [
    "#  Can Played Hours and Age Predict Newsletter Subscription?\n",
    "## A Data-Science Analysis of the UBC Minecraft Research-Server Logs\n",
    "*May Wei· DSCI _100 · UBC, 2025-06-17*\n",
    "## Link to github repository"
   ]
  },
  {
   "cell_type": "markdown",
   "id": "b45ff6b4-b721-414d-b92b-c66759a95978",
   "metadata": {},
   "source": [
    "## 1. Introduction\n",
    "### 1.1 Background\n",
    "A research group at the University of British Columbia launched a Minecraft server that logs how players behave in virtual environments. These logs include activity time, demographics, and engagement metrics, enabling researchers to study user engagement patterns and support HCI/AI development.\n",
    "\n",
    "In the commercial gaming industry, predictive marketing is widely used to retain players by sending customized offers to those at risk of leaving (Ghantasala, 2024). Understanding which players are more likely to subscribe to newsletters can help improve outreach and user management strategies."
   ]
  },
  {
   "cell_type": "markdown",
   "id": "beca907d-67d6-4808-91ba-ff6c4c4de3dc",
   "metadata": {},
   "source": [
    "### 1.2 Research Question \n",
    " Can played hours, age, and gender predict newsletter subscription in players?"
   ]
  },
  {
   "cell_type": "markdown",
   "id": "6500666b-ed0e-496e-90ba-6f7ad570eb62",
   "metadata": {},
   "source": [
    "The response variable is the binary flag **`subscribed`**, and the explanatory variables are  \n",
    "1. **`hours_played`** – cumulative play-time (h),  \n",
    "2. **`age`** – self-reported age (years),  \n",
    "3. **`gender`** – self-reported gender identity."
   ]
  },
  {
   "cell_type": "markdown",
   "id": "4d7c10a2-d930-4403-8455-9b541cfb804c",
   "metadata": {},
   "source": [
    "## 2 Data Description\n",
    "Experience: Categorical (Beginner, Amateur, Regular, Veteran, Pro)\n",
    "\n",
    "Subscribe: Boolean - Newsletter subscription status (response variable)\n",
    "\n",
    "HashedEmail: Unique identifier for each player\n",
    "\n",
    "Played_hours: Numeric - Total hours played\n",
    "\n",
    "Name: Player name\n",
    "\n",
    "Gender: Categorical (Male, Female, Non-binary, Prefer not to say, Two-Spirited, Agender, Other)\n",
    "\n",
    "Age: Numeric - Player age\n",
    "\n",
    "\t•\tData Cleaning Notes:\n",
    "\t•\tRemoved unnecessary fields (hashedEmail, name)\n",
    "\t•\tConverted subscribe to a factor for classification"
   ]
  },
  {
   "cell_type": "markdown",
   "id": "b69dd3c2-3ba5-442d-b3db-1d4d4c78a4b0",
   "metadata": {},
   "source": [
    "# 3. Methods & Results"
   ]
  },
  {
   "cell_type": "markdown",
   "id": "53c29511-6791-4fd3-b858-cecbfe36cad5",
   "metadata": {},
   "source": [
    "## 3.1 Load data"
   ]
  },
  {
   "cell_type": "code",
   "execution_count": null,
   "id": "243c3272-4238-44e3-ba30-9ad286c7f0ce",
   "metadata": {},
   "outputs": [],
   "source": [
    "library(tidyverse)\n",
    "library(tidymodels)\n",
    "\n",
    "player <- read_csv(\"players.csv\")\n",
    "head(player)"
   ]
  },
  {
   "cell_type": "markdown",
   "id": "c6703319-76a1-4e12-af22-42c134b2855a",
   "metadata": {},
   "source": [
    "## 3.2 Clean Data \n",
    "Since our variables are played hours, age, and gender, so we should remove those we don't need."
   ]
  },
  {
   "cell_type": "code",
   "execution_count": null,
   "id": "cd334ecb-bd54-4d91-852f-5d7ce16801d2",
   "metadata": {},
   "outputs": [],
   "source": [
    "clean_player <- mutate(player,subscribe =as.factor(subscribe))|>select( -hashedEmail, -name, -experience, -gender)\n",
    "head(clean_player)"
   ]
  },
  {
   "cell_type": "markdown",
   "id": "99a27bbc-1cb7-46e8-b4a6-b38b668af865",
   "metadata": {},
   "source": [
    "## 3.3 Exploratory Data Analysis"
   ]
  },
  {
   "cell_type": "code",
   "execution_count": null,
   "id": "b57ed7f9-d41f-4771-a11e-6734103ee677",
   "metadata": {},
   "outputs": [],
   "source": [
    "ggplot(player, aes(x = Age, y = played_hours)) +\n",
    "  geom_point(aes(color = experience)) +\n",
    "  labs(\n",
    "    x = \"Age(yr)\",\n",
    "    y = \"Played Time(hr)\",\n",
    "    color = \"Experience\"\n",
    "  )"
   ]
  },
  {
   "cell_type": "markdown",
   "id": "5d3ad631-99b5-4909-a87b-de39a3a6075e",
   "metadata": {},
   "source": [
    "Figure 1: Scatterplot of Age vs Played Hours, colored by Experience.\n",
    "    \n",
    "    Insight: Younger players tend to accumulate fewer hours. More experienced players are slightly older and more active."
   ]
  },
  {
   "cell_type": "markdown",
   "id": "0b449eda-3c40-4649-98c2-816844fc7cae",
   "metadata": {},
   "source": [
    "## 3.4 Data Preparation"
   ]
  },
  {
   "cell_type": "code",
   "execution_count": null,
   "id": "3bcbd301-c41e-4493-85fe-51e746e7391b",
   "metadata": {},
   "outputs": [],
   "source": [
    "set.seed(1234)\n",
    "\n",
    "players_split <- initial_split(clean_player, prop = 0.7, strata = subscribe)\n",
    "players_training <- training(players_split)\n",
    "players_testing <- testing(players_split)\n",
    "\n",
    "players_recipe <- recipe(subscribe ~ played_hours + Age, data = players_training) |>\n",
    "  step_scale(all_predictors()) |>\n",
    "  step_center(all_predictors())\n",
    "players_recipe"
   ]
  },
  {
   "cell_type": "markdown",
   "id": "e914be6e-4735-405e-9132-74cda4f2929f",
   "metadata": {},
   "source": [
    "## 3.5 Model Specification and Tuning"
   ]
  },
  {
   "cell_type": "markdown",
   "id": "38ebd503-36ab-4274-8323-ecc20d2a7ec6",
   "metadata": {},
   "source": [
    "### Why K-Nearest Neighbors (KNN)?\n",
    "\n",
    "- **Non-parametric**: makes no strong distributional assumptions.  \n",
    "- **Intuitive**: players who are close in *played_hours* and *Age* are expected to behave similarly regarding newsletter subscription.  \n",
    "- **Suitable for small datasets** (n ≈ 196).  \n",
    "- Captures **non-linear boundaries** without explicit interaction terms."
   ]
  },
  {
   "cell_type": "code",
   "execution_count": null,
   "id": "16b184ba-f44a-4333-a1ca-278267fba5c1",
   "metadata": {},
   "outputs": [],
   "source": [
    "knn_spec <- nearest_neighbor(weight_func = \"rectangular\", neighbors = tune()) |>\n",
    "  set_engine(\"kknn\") |>\n",
    "  set_mode(\"classification\")\n",
    "\n",
    "players_vfold <- vfold_cv(players_training, v = 5, strata = subscribe)\n",
    "\n",
    "set.seed(1234)\n",
    "k_val <- tibble(neighbors = seq(from = 1, to = 30, by = 1))\n",
    "knn_results <- workflow() |>\n",
    "  add_recipe(players_recipe) |>\n",
    "  add_model(knn_spec) |>\n",
    "  tune_grid(resamples = players_vfold, grid = k_val) |>\n",
    "  collect_metrics()\n",
    "player_accuracy <- filter(knn_results, .metric == \"accuracy\")\n",
    "player_accuracy"
   ]
  },
  {
   "cell_type": "markdown",
   "id": "05c662db-675f-4a87-85bd-f719ad26f45c",
   "metadata": {},
   "source": [
    "### Chose the best K based on validation accuracy."
   ]
  },
  {
   "cell_type": "code",
   "execution_count": null,
   "id": "b8e38b2d-248e-457d-b36f-7afbb68d51ae",
   "metadata": {},
   "outputs": [],
   "source": [
    "accuracy_plot <- ggplot(player_accuracy, aes(x = neighbors, y = mean)) +\n",
    "  geom_point() +\n",
    "  geom_line() +\n",
    "  labs(x = \"Neighbors\", y = \"Accuracy\")\n",
    "\n",
    "accuracy_plot\n",
    "best_k <- player_accuracy |>\n",
    "  arrange(desc(mean)) |>\n",
    "  head(1) |>\n",
    "  pull(neighbors)\n",
    "\n",
    "best_k"
   ]
  },
  {
   "cell_type": "markdown",
   "id": "13a0b84d-bef0-4fce-ad9c-6501783891e8",
   "metadata": {},
   "source": [
    "Figure 2: Accuracy by Number of Neighbors (k) – peak performance near k = 15."
   ]
  },
  {
   "cell_type": "markdown",
   "id": "250f578b-a6d7-440b-9300-6c1395c9dae0",
   "metadata": {},
   "source": [
    "### Limitations\n",
    "\n",
    "- Curse of dimensionality if many noisy predictors are added.  \n",
    "- Computation** scales poorly with very large datasets.  \n",
    "- Sensitive to class imbalance (majority class can dominate)."
   ]
  },
  {
   "cell_type": "markdown",
   "id": "8c47c2d4-1c53-4a62-a613-67b09462fac6",
   "metadata": {},
   "source": [
    "## 3.6 Final Model Fit & Prediction"
   ]
  },
  {
   "cell_type": "code",
   "execution_count": null,
   "id": "5d2c0852-19f9-429c-acfe-2b9716764856",
   "metadata": {},
   "outputs": [],
   "source": [
    "best_k <- player_accuracy |>\n",
    "  arrange(desc(mean)) |>\n",
    "  head(1) |>\n",
    "  pull(neighbors)\n",
    "\n",
    "knn_spec <- nearest_neighbor(weight_func = \"rectangular\", neighbors = best_k) |>\n",
    "  set_engine(\"kknn\") |>\n",
    "  set_mode(\"classification\")\n",
    "\n",
    "knn_fit <- workflow() |>\n",
    "  add_recipe(players_recipe) |>\n",
    "  add_model(knn_spec) |>\n",
    "  fit(data = players_training)\n",
    "\n",
    "my_prediction <- predict(knn_fit, players_testing) |>\n",
    "  bind_cols(players_testing)\n",
    "\n",
    "my_prediction"
   ]
  },
  {
   "cell_type": "code",
   "execution_count": null,
   "id": "691a3aad-ed05-4db0-8135-dcee42d71744",
   "metadata": {},
   "outputs": [],
   "source": [
    "accuracy <- my_prediction |>\n",
    "  accuracy(truth = subscribe, estimate = .pred_class, event_level = \"first\")\n",
    "\n",
    "accuracy"
   ]
  },
  {
   "cell_type": "markdown",
   "id": "a1429de1-f84f-4541-a091-cca71aaafaf5",
   "metadata": {},
   "source": [
    "Final Accuracy: 0.70\n",
    "\n",
    "> The KNN model with *k* = `r best_k` correctly classified 70 % of players in the unseen test set.  \n",
    "> While acceptable, adding behavioral features (session count, login frequency) or testing other models (logistic regression, decision tree) could further improve performance."
   ]
  },
  {
   "cell_type": "markdown",
   "id": "92e2b6dc-c6de-4ca0-883b-576b2b521516",
   "metadata": {},
   "source": [
    "# 4. Discussion"
   ]
  },
  {
   "cell_type": "markdown",
   "id": "ae44def3-2476-4eed-8fde-7bf90cca8c01",
   "metadata": {},
   "source": [
    "### What did we find?\n",
    "\n",
    "Using a K-Nearest Neighbors (KNN) model, we were able to predict whether a player subscribed to the game newsletter with an accuracy of approximately **70%** on the test set. The best-performing value of *k* (number of neighbors) was **15**, chosen through 5-fold cross-validation. The most important predictors used in the model were **played hours** and **age**.\n",
    "\n",
    "### Did the results match expectations?\n",
    "\n",
    "Yes — the findings were largely consistent with our expectations. We hypothesized that players with higher engagement (measured by total played hours) and older age might be more inclined to subscribe to newsletters, which was supported by the model’s moderate predictive performance. This suggests that play behavior and demographics carry useful information about a player’s likelihood to opt into game-related communications.\n",
    "\n",
    "### What is the impact of these findings?\n",
    "\n",
    "This kind of predictive modeling could support **personalized marketing** strategies in the gaming industry. By identifying likely newsletter subscribers, developers can **prioritize outreach**, tailor **in-game incentives**, or A/B test promotional emails for targeted segments. In academic research settings, such analysis helps understand how digital behavior relates to user engagement outside the game environment.\n",
    "\n",
    "### What future questions could this lead to?\n",
    "\n",
    "- Can prediction accuracy be improved by including additional behavioral features such as **login frequency**, **session duration**, or **in-game achievements**?\n",
    "- How does **gender** or **self-reported experience level** affect newsletter subscription, and should those be included in future models?\n",
    "- Would a **logistic regression** or **decision tree** model offer better interpretability or accuracy?\n",
    "- How do newsletter subscription patterns change over time — could a **time-series model** be useful?\n",
    "\n",
    "Future research could also explore **causal relationships**, rather than mere correlations, to better understand *why* players choose to subscribe."
   ]
  },
  {
   "cell_type": "markdown",
   "id": "9affa57b-81df-44f5-89b2-b0416477c38d",
   "metadata": {},
   "source": [
    "# 5. References"
   ]
  },
  {
   "cell_type": "markdown",
   "id": "ae938231-442b-40fd-abc7-77d287f24f2f",
   "metadata": {},
   "source": [
    "    Ghantasala, Naga Lakshmi Subha Pavan Kumar. (2024). Enhancing player retention in mobile gaming through predictive customer lifetime value modeling using BG/NBD. *AI Matters, 10*(2), 9-11. https://doi.org/10.1145/3694712.3695754"
   ]
  },
  {
   "cell_type": "code",
   "execution_count": null,
   "id": "19197436-8cff-4b13-8e7c-6cf051f11cde",
   "metadata": {},
   "outputs": [],
   "source": []
  }
 ],
 "metadata": {
  "kernelspec": {
   "display_name": "R",
   "language": "R",
   "name": "ir"
  },
  "language_info": {
   "codemirror_mode": "r",
   "file_extension": ".r",
   "mimetype": "text/x-r-source",
   "name": "R",
   "pygments_lexer": "r",
   "version": "4.3.3"
  }
 },
 "nbformat": 4,
 "nbformat_minor": 5
}
