{
 "cells": [
  {
   "cell_type": "markdown",
   "id": "e51f5722-d186-4567-8d51-052ddaa96686",
   "metadata": {},
   "source": [
    "#  Can Played Hours, Age, and Gender Predict Newsletter Subscription?\n",
    "## A Data-Science Analysis of the UBC Minecraft Research-Server Logs\n",
    "*May Wei· DSCI _100 · UBC, 2025-06-17*\n",
    "## Link to github repository"
   ]
  },
  {
   "cell_type": "markdown",
   "id": "b45ff6b4-b721-414d-b92b-c66759a95978",
   "metadata": {},
   "source": [
    "## 1. Introduction\n",
    "### 1.1 Background\n",
    "A research group at the University of British Columbia has launched a Minecraft server that records how players behave in virtual environments.  The server collects rich in-game activity data, which can be used to study user engagement and support research in human-computer interaction and AI.\n",
    "\n",
    "To maintain engagement and allocate server resources effectively, the research team uses a game-related newsletter.  Predicting which players are likely to subscribe can help with targeted recruitment and infrastructure planning.\n",
    "\n",
    "In the commercial gaming industry, predictive marketing is widely used to retain players by sending customized offers to those at risk of leaving (Ghantasala, 2024).  Similarly, understanding which players are more inclined to subscribe to game newsletters can improve outreach and user management.\n",
    "\n",
    "This project investigates whether a player’s demographic information (e.g., age, gender, experience) and gameplay patterns (e.g., session frequency, average session length) can predict newsletter subscription status."
   ]
  },
  {
   "cell_type": "markdown",
   "id": "beca907d-67d6-4808-91ba-ff6c4c4de3dc",
   "metadata": {},
   "source": [
    "### Research Question \n",
    " Can played hours, age, and gender predict newsletter subscription in players?"
   ]
  },
  {
   "cell_type": "markdown",
   "id": "6500666b-ed0e-496e-90ba-6f7ad570eb62",
   "metadata": {},
   "source": [
    "The response variable is the binary flag **`subscribed`**, and the explanatory variables are  \n",
    "1. **`hours_played`** – cumulative play-time (h),  \n",
    "2. **`age`** – self-reported age (years),  \n",
    "3. **`gender`** – self-reported gender identity."
   ]
  },
  {
   "cell_type": "markdown",
   "id": "4d7c10a2-d930-4403-8455-9b541cfb804c",
   "metadata": {},
   "source": [
    "## 1.2 Data Description"
   ]
  },
  {
   "cell_type": "code",
   "execution_count": null,
   "id": "2e1414dc-8c9c-419d-bbff-42f66e451b52",
   "metadata": {},
   "outputs": [],
   "source": [
    "library(tidyverse)"
   ]
  },
  {
   "cell_type": "code",
   "execution_count": null,
   "id": "4c04ad5d-311a-41f3-9668-84396520a61f",
   "metadata": {},
   "outputs": [],
   "source": [
    "player <- read_csv(\"players.csv\")\n",
    "head(player)"
   ]
  },
  {
   "cell_type": "markdown",
   "id": "c6703319-76a1-4e12-af22-42c134b2855a",
   "metadata": {},
   "source": [
    "Since our variables are played hours, age, and gender, so we should remove those we don't need."
   ]
  },
  {
   "cell_type": "code",
   "execution_count": null,
   "id": "cd334ecb-bd54-4d91-852f-5d7ce16801d2",
   "metadata": {},
   "outputs": [],
   "source": [
    "clean_player <- select(player, -hashedEmail, -name)\n",
    "head(clean_player)"
   ]
  },
  {
   "cell_type": "code",
   "execution_count": null,
   "id": "503a915e-9476-4e53-a580-e4eb49f3726d",
   "metadata": {},
   "outputs": [],
   "source": [
    "gender <- clean_player |>\n",
    "  group_by(gender) |>\n",
    "  summarize(count = n())\n",
    "\n",
    "gender"
   ]
  },
  {
   "cell_type": "markdown",
   "id": "0e7245e5-369f-4eb4-8782-3489e0243197",
   "metadata": {},
   "source": [
    "We have a total of 196 rows; there are multiple genders in the data. We combine a few types of gender into \"gender others\"."
   ]
  },
  {
   "cell_type": "code",
   "execution_count": null,
   "id": "7f73434b-ee6c-4cec-9e9f-c64004fb773e",
   "metadata": {},
   "outputs": [],
   "source": [
    "install.packages(\"mltools\")\n",
    "library(mltools)\n",
    "library(data.table)"
   ]
  },
  {
   "cell_type": "code",
   "execution_count": null,
   "id": "dc7ee24f-eee0-4175-a1db-6a65b4c931f4",
   "metadata": {},
   "outputs": [],
   "source": [
    "clean_player$gender <- as.factor(clean_player$gender)\n",
    "player_1h <- one_hot(as.data.table(clean_player))\n",
    "head(player_1h)"
   ]
  },
  {
   "cell_type": "code",
   "execution_count": null,
   "id": "8bb11aab-a60e-4a92-b5bf-c492c8387827",
   "metadata": {},
   "outputs": [],
   "source": [
    "player_1h |>\n",
    "  mutate(gender_others = gender_Agender + gender_Other + `gender_Two-Spirited`) |>\n",
    "  select(-gender_Agender, -gender_Other, -`gender_Two-Spirited`) |>\n",
    "  head()"
   ]
  },
  {
   "cell_type": "code",
   "execution_count": null,
   "id": "a3dc971a-f2ca-438d-b196-8b7ee33ccd9d",
   "metadata": {},
   "outputs": [],
   "source": [
    "clean_player$experience <- as.factor(clean_player$experience)\n",
    "player_exp <- clean_player |> select(-gender)\n",
    "player_1h_exp <- one_hot(as.data.table(player_exp))\n",
    "head(player_1h_exp)"
   ]
  },
  {
   "cell_type": "code",
   "execution_count": null,
   "id": "5388b25f-ff57-4fe9-b87d-16eac12da885",
   "metadata": {},
   "outputs": [],
   "source": []
  }
 ],
 "metadata": {
  "kernelspec": {
   "display_name": "R",
   "language": "R",
   "name": "ir"
  },
  "language_info": {
   "codemirror_mode": "r",
   "file_extension": ".r",
   "mimetype": "text/x-r-source",
   "name": "R",
   "pygments_lexer": "r",
   "version": "4.3.3"
  }
 },
 "nbformat": 4,
 "nbformat_minor": 5
}
