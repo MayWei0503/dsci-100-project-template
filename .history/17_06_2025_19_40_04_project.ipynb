{
 "cells": [
  {
   "cell_type": "markdown",
   "id": "e51f5722-d186-4567-8d51-052ddaa96686",
   "metadata": {},
   "source": [
    "# Predicting Game-Newsletter Subscriptions from Minecraft Player Logs\n",
    "*May Wei· DSCI _100 · UBC, 2025-06-17*\n",
    "## Link to github repository"
   ]
  },
  {
   "cell_type": "markdown",
   "id": "b45ff6b4-b721-414d-b92b-c66759a95978",
   "metadata": {},
   "source": [
    "##Introduction##\n",
    "In recent years, predictive marketing has been widely applied in user retention strategies in the gaming industry. By pushing personalized offers and rewards to high-risk churn players, developers can significantly increase the retention rate of players (Ghantasala, 2024). Therefore, predicting which players are more likely to participate in such personalized marketing (such as subscribing to e-newsletters) is of great value for marketing promotion and user management."
   ]
  },
  {
   "cell_type": "markdown",
   "id": "beca907d-67d6-4808-91ba-ff6c4c4de3dc",
   "metadata": {},
   "source": [
    "## Question 1\n",
    " What player characteristics and behaviours are most predictive of subscribing to a game-related newsletter, and how do these features differ between various player types?"
   ]
  },
  {
   "cell_type": "code",
   "execution_count": null,
   "id": "2e1414dc-8c9c-419d-bbff-42f66e451b52",
   "metadata": {},
   "outputs": [],
   "source": [
    "library(tidyverse)"
   ]
  },
  {
   "cell_type": "code",
   "execution_count": null,
   "id": "4c04ad5d-311a-41f3-9668-84396520a61f",
   "metadata": {},
   "outputs": [],
   "source": [
    "player <- read_csv(\"players.csv\")\n",
    "head(player)"
   ]
  },
  {
   "cell_type": "code",
   "execution_count": null,
   "id": "b5431965-0686-49ef-8b6f-91a4180288da",
   "metadata": {},
   "outputs": [],
   "source": []
  }
 ],
 "metadata": {
  "kernelspec": {
   "display_name": "R",
   "language": "R",
   "name": "ir"
  },
  "language_info": {
   "codemirror_mode": "r",
   "file_extension": ".r",
   "mimetype": "text/x-r-source",
   "name": "R",
   "pygments_lexer": "r",
   "version": "4.3.3"
  }
 },
 "nbformat": 4,
 "nbformat_minor": 5
}
