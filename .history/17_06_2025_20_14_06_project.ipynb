{
 "cells": [
  {
   "cell_type": "markdown",
   "id": "e51f5722-d186-4567-8d51-052ddaa96686",
   "metadata": {},
   "source": [
    "# Predicting Game-Newsletter Subscriptions from Minecraft Player Logs\n",
    "*May Wei· DSCI _100 · UBC, 2025-06-17*\n",
    "## Link to github repository"
   ]
  },
  {
   "cell_type": "markdown",
   "id": "b45ff6b4-b721-414d-b92b-c66759a95978",
   "metadata": {},
   "source": [
    "## 1. Introduction\n",
    "### 1.1 Background\n",
    "A research group at the University of British Columbia has launched a Minecraft server that records how players behave in virtual environments.  The server collects rich in-game activity data, which can be used to study user engagement and support research in human-computer interaction and AI.\n",
    "\n",
    "To maintain engagement and allocate server resources effectively, the research team uses a game-related newsletter.  Predicting which players are likely to subscribe can help with targeted recruitment and infrastructure planning.\n",
    "\n",
    "In the commercial gaming industry, predictive marketing is widely used to retain players by sending customized offers to those at risk of leaving (Ghantasala, 2024).  Similarly, understanding which players are more inclined to subscribe to game newsletters can improve outreach and user management.\n",
    "\n",
    "This project investigates whether a player’s demographic information (e.g., age, gender, experience) and gameplay patterns (e.g., session frequency, average session length) can predict newsletter subscription status."
   ]
  },
  {
   "cell_type": "markdown",
   "id": "beca907d-67d6-4808-91ba-ff6c4c4de3dc",
   "metadata": {},
   "source": [
    "### Research Question \n",
    " Can played hours, age, and gender predict newsletter subscription in players?"
   ]
  },
  {
   "cell_type": "markdown",
   "id": "4d7c10a2-d930-4403-8455-9b541cfb804c",
   "metadata": {},
   "source": [
    "## 1.2 Data Description"
   ]
  },
  {
   "cell_type": "code",
   "execution_count": null,
   "id": "2e1414dc-8c9c-419d-bbff-42f66e451b52",
   "metadata": {},
   "outputs": [],
   "source": [
    "library(tidyverse)"
   ]
  },
  {
   "cell_type": "code",
   "execution_count": null,
   "id": "4c04ad5d-311a-41f3-9668-84396520a61f",
   "metadata": {},
   "outputs": [],
   "source": [
    "players <- read_csv(\"players.csv\")\n",
    "head(players)"
   ]
  },
  {
   "cell_type": "code",
   "execution_count": null,
   "id": "4f82f70a-09de-421a-991e-7f087870ec4b",
   "metadata": {},
   "outputs": [],
   "source": []
  }
 ],
 "metadata": {
  "kernelspec": {
   "display_name": "R",
   "language": "R",
   "name": "ir"
  },
  "language_info": {
   "codemirror_mode": "r",
   "file_extension": ".r",
   "mimetype": "text/x-r-source",
   "name": "R",
   "pygments_lexer": "r",
   "version": "4.3.3"
  }
 },
 "nbformat": 4,
 "nbformat_minor": 5
}
